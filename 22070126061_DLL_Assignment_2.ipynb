{
 "cells": [
  {
   "cell_type": "markdown",
   "id": "f2a86822",
   "metadata": {},
   "source": [
    "Name: Madhusudan Hasbe\\\n",
    "PRN: 22070126061\\\n",
    "TY AIML A3"
   ]
  },
  {
   "cell_type": "markdown",
   "id": "8930b936",
   "metadata": {},
   "source": [
    "# ASSIGNMENT 2"
   ]
  },
  {
   "cell_type": "markdown",
   "id": "90014b91",
   "metadata": {},
   "source": [
    "------------"
   ]
  },
  {
   "cell_type": "markdown",
   "id": "b2091472",
   "metadata": {},
   "source": [
    "# Fundamentals of TensorFlow\n",
    "-----------\n",
    "## 1. Introduction to TensorFlow\n",
    "\n",
    "**TensorFlow** is an open-source machine learning library developed by Google. It provides a comprehensive framework to build and deploy machine learning models at scale. It was originally designed for deep learning but has since evolved to support various machine learning techniques. TensorFlow allows developers to use both high-level and low-level APIs to create complex models.\n",
    "\n",
    "### Key Components of TensorFlow:\n",
    "- **Tensors**: Multidimensional arrays that flow through the operations in the graph.\n",
    "- **Graphs**: Define operations (or computations) in TensorFlow. It represents the flow of data.\n",
    "- **Sessions**: Execute graphs to perform operations on the data.\n",
    "\n",
    "### Why Use TensorFlow?\n",
    "- **Scalability**: TensorFlow can run on CPUs, GPUs, and TPUs, allowing scalable model training.\n",
    "- **Flexibility**: You can define machine learning models from scratch or use pre-built models.\n",
    "- **Ecosystem**: TensorFlow provides various tools like TensorFlow Lite for mobile, TensorFlow.js for web, and TensorFlow Extended for production.\n",
    "\n",
    "---\n",
    "\n",
    "## 2. TensorFlow Architecture\n",
    "\n",
    "### Tensors\n",
    "A tensor is a generalization of vectors and matrices to potentially higher dimensions. TensorFlow's name itself is derived from \"Tensor,\" and the flow refers to the computational operations.\n",
    "\n",
    "### Computational Graphs\n",
    "TensorFlow uses a data flow graph to represent your computations in terms of the relationships between individual operations. Nodes in the graph represent operations, while the edges represent the data (tensors) flowing between these operations.\n",
    "\n",
    "### Autograd and Backpropagation\n",
    "TensorFlow automatically calculates gradients using its built-in autograd system, which is key for training neural networks.\n",
    "\n",
    "### Key Features:\n",
    "- **Eager Execution**: By default, TensorFlow uses eager execution, which allows immediate execution of operations instead of building a computational graph.\n",
    "- **Keras API**: TensorFlow integrates Keras, a high-level API, which makes building neural networks much easier and more intuitive.\n",
    "\n"
   ]
  },
  {
   "cell_type": "markdown",
   "id": "eaab8a62",
   "metadata": {},
   "source": [
    "-----------"
   ]
  },
  {
   "cell_type": "markdown",
   "id": "71879aac",
   "metadata": {},
   "source": [
    "## 3. TensorFlow Basic Operations"
   ]
  },
  {
   "cell_type": "code",
   "execution_count": 1,
   "id": "7ea950a7",
   "metadata": {},
   "outputs": [
    {
     "name": "stdout",
     "output_type": "stream",
     "text": [
      "Addition: tf.Tensor(5, shape=(), dtype=int32)\n",
      "Multiplication: tf.Tensor(6, shape=(), dtype=int32)\n"
     ]
    }
   ],
   "source": [
    "import tensorflow as tf\n",
    "\n",
    "# Define two constant tensors\n",
    "a = tf.constant(2)\n",
    "b = tf.constant(3)\n",
    "\n",
    "# Basic TensorFlow operations\n",
    "print(\"Addition:\", tf.add(a, b))\n",
    "print(\"Multiplication:\", tf.multiply(a, b))"
   ]
  },
  {
   "cell_type": "code",
   "execution_count": 2,
   "id": "b69dc080",
   "metadata": {},
   "outputs": [
    {
     "name": "stdout",
     "output_type": "stream",
     "text": [
      "Matrix Multiplication Result: tf.Tensor([[12.]], shape=(1, 1), dtype=float32)\n"
     ]
    }
   ],
   "source": [
    "# Working with tensors\n",
    "matrix1 = tf.constant([[3., 3.]])\n",
    "matrix2 = tf.constant([[2.],[2.]])\n",
    "\n",
    "product = tf.matmul(matrix1, matrix2)\n",
    "\n",
    "print(\"Matrix Multiplication Result:\", product)"
   ]
  },
  {
   "cell_type": "markdown",
   "id": "ca737011",
   "metadata": {},
   "source": [
    "## 4. Simple Neural Network Example: MNIST Digit Classification\n",
    "----------"
   ]
  },
  {
   "cell_type": "code",
   "execution_count": 3,
   "id": "4b410cb4",
   "metadata": {},
   "outputs": [],
   "source": [
    "# Import necessary libraries\n",
    "from tensorflow.keras.datasets import mnist\n",
    "from tensorflow.keras.models import Sequential\n",
    "from tensorflow.keras.layers import Dense, Flatten\n",
    "from tensorflow.keras.utils import to_categorical"
   ]
  },
  {
   "cell_type": "code",
   "execution_count": 4,
   "id": "5a24be2a",
   "metadata": {},
   "outputs": [],
   "source": [
    "# Load the MNIST dataset\n",
    "(x_train, y_train), (x_test, y_test) = mnist.load_data()\n",
    "\n",
    "# Preprocess the data\n",
    "x_train = x_train / 255.0\n",
    "x_test = x_test / 255.0\n",
    "\n",
    "# Convert labels to categorical one-hot encoding\n",
    "y_train = to_categorical(y_train, 10)\n",
    "y_test = to_categorical(y_test, 10)"
   ]
  },
  {
   "cell_type": "code",
   "execution_count": 5,
   "id": "8bcba379",
   "metadata": {},
   "outputs": [],
   "source": [
    "# Build a simple neural network model\n",
    "model = Sequential([\n",
    "    Flatten(input_shape=(28, 28)),\n",
    "    Dense(128, activation='relu'),\n",
    "    Dense(10, activation='softmax')\n",
    "])\n",
    "\n",
    "# Compile the model\n",
    "model.compile(optimizer='adam',\n",
    "              loss='categorical_crossentropy',\n",
    "              metrics=['accuracy'])"
   ]
  },
  {
   "cell_type": "code",
   "execution_count": 6,
   "id": "a36681bd",
   "metadata": {},
   "outputs": [
    {
     "name": "stdout",
     "output_type": "stream",
     "text": [
      "Epoch 1/5\n",
      "1875/1875 [==============================] - 9s 3ms/step - loss: 0.2586 - accuracy: 0.9262\n",
      "Epoch 2/5\n",
      "1875/1875 [==============================] - 5s 3ms/step - loss: 0.1158 - accuracy: 0.9660\n",
      "Epoch 3/5\n",
      "1875/1875 [==============================] - 6s 3ms/step - loss: 0.0792 - accuracy: 0.9759\n",
      "Epoch 4/5\n",
      "1875/1875 [==============================] - 5s 3ms/step - loss: 0.0592 - accuracy: 0.9815\n",
      "Epoch 5/5\n",
      "1875/1875 [==============================] - 6s 3ms/step - loss: 0.0459 - accuracy: 0.9859\n",
      "313/313 [==============================] - 1s 3ms/step - loss: 0.0792 - accuracy: 0.9751\n",
      "Test accuracy: 0.9750999808311462\n"
     ]
    }
   ],
   "source": [
    "# Train the model\n",
    "model.fit(x_train, y_train, epochs=5)\n",
    "\n",
    "# Evaluate the model\n",
    "test_loss, test_acc = model.evaluate(x_test, y_test)\n",
    "print('Test accuracy:', test_acc)"
   ]
  },
  {
   "cell_type": "markdown",
   "id": "84f83040",
   "metadata": {},
   "source": [
    "We get 97.50% accuracy on our tensorflow model trained and tested on MNIST dataset!"
   ]
  }
 ],
 "metadata": {
  "kernelspec": {
   "display_name": "Python 3",
   "language": "python",
   "name": "python3"
  },
  "language_info": {
   "codemirror_mode": {
    "name": "ipython",
    "version": 3
   },
   "file_extension": ".py",
   "mimetype": "text/x-python",
   "name": "python",
   "nbconvert_exporter": "python",
   "pygments_lexer": "ipython3",
   "version": "3.11.4"
  }
 },
 "nbformat": 4,
 "nbformat_minor": 5
}
